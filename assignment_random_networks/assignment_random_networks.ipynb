{
 "cells": [
  {
   "cell_type": "markdown",
   "metadata": {},
   "source": [
    "# Practical Assignment — Random Networks"
   ]
  },
  {
   "cell_type": "code",
   "execution_count": null,
   "metadata": {},
   "outputs": [],
   "source": [
    "import networkx as nx\n",
    "import matplotlib.pyplot as plt\n",
    "import numpy as np\n",
    "from scipy.stats import ks_2samp\n",
    "import random"
   ]
  },
  {
   "cell_type": "markdown",
   "metadata": {},
   "source": [
    "### Task 1. Erdos–Renyi model (2 points)\n",
    "Implement Erdos–Renyi model (random graph) — each pair of `n` nodes are connected with some fixed probability `p`. \n",
    "\n",
    "Write a function `random_edges` with parameters `nodes` — np.array of nodes, for example [1, 2, 3, 4, ...] and `p` — probability of connection. The function returns np.array with tuples of the form [(1, 2), (2, 4), ...], where 1-2, 2-4 are edges that should be added in the graph.\n",
    "\n",
    "*Hint: look at ALG.1 in the article [Efficient generation of large random networks](http://vlado.fmf.uni-lj.si/pub/networks/doc/ms/rndgen.pdf) to speed up the generator*"
   ]
  },
  {
   "cell_type": "code",
   "execution_count": null,
   "metadata": {
    "deletable": false,
    "editable": false,
    "nbgrader": {
     "cell_type": "code",
     "checksum": "99359ae843591cea83f23a61190bb4cc",
     "grade": false,
     "grade_id": "cell-918b03c83c613e7a",
     "locked": true,
     "schema_version": 3,
     "solution": false,
     "task": false
    }
   },
   "outputs": [],
   "source": [
    "def erdos_renyi_graph(n, p, random_seed=1):\n",
    "    G = nx.Graph()\n",
    "    nodes = np.arange(n)\n",
    "    G.add_nodes_from(nodes)\n",
    "    G.add_edges_from(random_edges(nodes, p, random_seed))\n",
    "    return G"
   ]
  },
  {
   "cell_type": "code",
   "execution_count": null,
   "metadata": {
    "deletable": false,
    "nbgrader": {
     "cell_type": "code",
     "checksum": "c795721b967491f6dde839c2bfc7b2c8",
     "grade": false,
     "grade_id": "cell-6a7647d92a8cc29f",
     "locked": false,
     "schema_version": 3,
     "solution": true,
     "task": false
    }
   },
   "outputs": [],
   "source": [
    "def random_edges(nodes, p, random_seed=1):\n",
    "    '''Generate a set of random edges'''\n",
    "    # YOUR CODE HERE\n",
    "    raise NotImplementedError()"
   ]
  },
  {
   "cell_type": "code",
   "execution_count": null,
   "metadata": {
    "deletable": false,
    "editable": false,
    "nbgrader": {
     "cell_type": "code",
     "checksum": "d75f7f2ca71dd50c37b6b06262d8e8e6",
     "grade": true,
     "grade_id": "cell-b05afb864b1041ce",
     "locked": true,
     "points": 2,
     "schema_version": 3,
     "solution": false,
     "task": false
    }
   },
   "outputs": [],
   "source": [
    "'''Check the Erdos-Renyi random graph generation'''\n",
    "assert len(erdos_renyi_graph(100, 0.1).edges) > 0\n",
    "n = 100\n",
    "p = 0.4\n",
    "n_edges = n * (n-1) / 2\n",
    "q = 1 - p\n",
    "sigma = np.sqrt((p * q) / n_edges)\n",
    "assert  p - 3*sigma < random_edges(np.arange(n), p).shape[0] / n_edges < p + 3*sigma\n",
    "n = 1000\n",
    "p = 0.01\n",
    "n_edges = n * (n-1) / 2\n",
    "q = 1 - p\n",
    "sigma = np.sqrt((p * q) / n_edges)\n",
    "assert  p - 3*sigma < random_edges(np.arange(n), p).shape[0] / n_edges < p + 3*sigma\n",
    "n = 300\n",
    "p = 0.9\n",
    "n_edges = n * (n-1) / 2\n",
    "q = 1 - p\n",
    "sigma = np.sqrt((p * q) / n_edges)\n",
    "assert  p - 3*sigma < random_edges(np.arange(n), p).shape[0] / n_edges < p + 3*sigma"
   ]
  },
  {
   "cell_type": "markdown",
   "metadata": {},
   "source": [
    "Let us draw a couple of generated graphs"
   ]
  },
  {
   "cell_type": "code",
   "execution_count": null,
   "metadata": {},
   "outputs": [],
   "source": [
    "n = 100\n",
    "cases = [('Subcritical regime: $p \\cdot n < 1$', n, 0.5/n), \n",
    "         ('Critical point: $p \\cdot n = 1$', n, 1/n), \n",
    "         ('Supercritacal regime: $p \\cdot n > 1$', n, 2/n), \n",
    "         ('Connected regime: $p \\cdot n > \\log(N)$', n, 6.5/n)]\n",
    "plt.figure(figsize=(12, 6 * 4))\n",
    "i = 1\n",
    "for regime, n, p in cases:\n",
    "    plt.subplot(4, 2, i)\n",
    "    G = erdos_renyi_graph(n, p, 2)\n",
    "    nx.draw(\n",
    "        G, \n",
    "        with_labels=False, \n",
    "        node_size=15, \n",
    "        width=0.5, \n",
    "        node_color='tab:orange')\n",
    "    plt.title(regime)\n",
    "    i += 1\n",
    "    plt.subplot(4, 2, i)\n",
    "    degree_seq = [degree for (node, degree) in G.degree]\n",
    "    bins, freq = np.unique(degree_seq, return_counts=True)\n",
    "    plt.bar(bins, freq)\n",
    "    plt.title('Degree distribution')\n",
    "    i += 1"
   ]
  },
  {
   "cell_type": "markdown",
   "metadata": {},
   "source": [
    "### Task 2. Clusterring coefficient (1 points)\n",
    "\n",
    "Clustering coefficient of a node $C_i$ contains information about relationship between nearest neighbors.  $C_i = 0$ means that there is no links between neighbors and $C_i = 1$ means that there are all possible links between them. Clustering coefficient of an Erdos-Renyi random graph is equal to the probability $p$ and does not dependent of a node and its degree:\n",
    "\n",
    "$$C_i = \\langle C \\rangle = \\frac{\\langle k \\rangle}{n} = p $$\n",
    "\n",
    "where $k$ is a node degree, $\\langle \\cdot \\rangle$ is an avarage. Let us check it on generated data.\n",
    "\n",
    "Write a function `node_degree_clustering` with parameters `n, p` — number of nodes and probability. The function generates Erdos-Renyi random graph and returns a tuple with two np.arrays: degrees and clustering coefficients. Ordering of elements should coincide: the first degree and first clustering coefficient are related to the first node and so on."
   ]
  },
  {
   "cell_type": "code",
   "execution_count": null,
   "metadata": {
    "deletable": false,
    "nbgrader": {
     "cell_type": "code",
     "checksum": "d91661bf62dc55f1a2112c40c3da53d3",
     "grade": false,
     "grade_id": "cell-3a72f599c724dfbb",
     "locked": false,
     "schema_version": 3,
     "solution": true,
     "task": false
    }
   },
   "outputs": [],
   "source": [
    "def node_degree_clustering(n, p, random_seed=1):\n",
    "    '''Calculate clustering coefficients'''\n",
    "    # YOUR CODE HERE\n",
    "    raise NotImplementedError()"
   ]
  },
  {
   "cell_type": "code",
   "execution_count": null,
   "metadata": {
    "deletable": false,
    "editable": false,
    "nbgrader": {
     "cell_type": "code",
     "checksum": "62b78d33e07167b9548de108bccd1d3b",
     "grade": true,
     "grade_id": "cell-244757e9838b6f24",
     "locked": true,
     "points": 1,
     "schema_version": 3,
     "solution": false,
     "task": false
    }
   },
   "outputs": [],
   "source": [
    "'''Check the clustering coefficients generation'''\n",
    "p = 0.9\n",
    "n = 100\n",
    "degree, clustering = node_degree_clustering(n, p)\n",
    "assert degree.shape == clustering.shape\n",
    "assert clustering.mean() - 3*clustering.std() < p < clustering.mean() + 3*clustering.std()\n",
    "assert degree.mean() - 3*degree.std() < p * n < degree.mean() + 3*degree.std()\n",
    "p = 0.1\n",
    "n = 1000\n",
    "degree, clustering = node_degree_clustering(n, p)\n",
    "assert degree.shape == clustering.shape\n",
    "assert clustering.mean() - 3*clustering.std() < p < clustering.mean() + 3*clustering.std()\n",
    "assert degree.mean() - 3*degree.std() < p * n < degree.mean() + 3*degree.std()\n",
    "p = 0.01\n",
    "n = 3000\n",
    "degree, clustering = node_degree_clustering(n, p)\n",
    "assert degree.shape == clustering.shape\n",
    "assert clustering.mean() - 3*clustering.std() < p < clustering.mean() + 3*clustering.std()\n",
    "assert degree.mean() - 3*degree.std() < p * n < degree.mean() + 3*degree.std()"
   ]
  },
  {
   "cell_type": "markdown",
   "metadata": {},
   "source": [
    "Let us draw the dependency between node degree and clustering coefficient"
   ]
  },
  {
   "cell_type": "code",
   "execution_count": null,
   "metadata": {},
   "outputs": [],
   "source": [
    "p = 0.1\n",
    "n = 1000\n",
    "degree, clustering = node_degree_clustering(n, p)\n",
    "plt.figure(figsize=(7, 6))\n",
    "plt.scatter(degree, clustering, s=15, linewidths=0.3)\n",
    "plt.plot([degree.min(), degree.max()], [p, p], 'k--', label='Probability')\n",
    "plt.xlabel('Node degree')\n",
    "plt.ylabel('Clustering coefficient')\n",
    "plt.legend()\n",
    "plt.show()"
   ]
  },
  {
   "cell_type": "markdown",
   "metadata": {},
   "source": [
    "By the way, let us look at the dependency of a real social network"
   ]
  },
  {
   "cell_type": "code",
   "execution_count": null,
   "metadata": {},
   "outputs": [],
   "source": [
    "degree = np.loadtxt(\n",
    "    'https://raw.githubusercontent.com/vpozdnyakov/network_science_assignments/master/assignment_random_networks/sn_degree.txt'\n",
    ")\n",
    "clustering = np.loadtxt(\n",
    "    'https://raw.githubusercontent.com/vpozdnyakov/network_science_assignments/master/assignment_random_networks/sn_clustering.txt'\n",
    ")\n",
    "plt.figure(figsize=(7, 6))\n",
    "plt.scatter(degree, clustering, s=15, linewidths=0.3)\n",
    "plt.xlabel('Node degree')\n",
    "plt.ylabel('Clustering coefficient')\n",
    "plt.show()"
   ]
  },
  {
   "cell_type": "markdown",
   "metadata": {},
   "source": [
    "### Task 3. Near the critical point (2 points)\n",
    "\n",
    "Let us see how to change the size of small components (small — not giant), path lengths, clustering coefficient with respect to the probability near the critical point: $p =1/n$.\n",
    "\n",
    "Write a function `small_comp_size` with parameters `n` — number of nodes, `probabilities` — np.array of probabilities. The function generates an Erdos-Renyi random graph for each probability and returns np.array average sizes of small components.\n",
    "\n",
    "Write a function `path_len` — the same format, returns np.array average path length of a giant component.\n",
    "\n",
    "Write a function `clustering_coef` — the same format, returns np.array average clustering coefficient"
   ]
  },
  {
   "cell_type": "code",
   "execution_count": null,
   "metadata": {
    "deletable": false,
    "nbgrader": {
     "cell_type": "code",
     "checksum": "cc101185df0423da1100d9ef717c081d",
     "grade": false,
     "grade_id": "cell-bcc46c34f4afe695",
     "locked": false,
     "schema_version": 3,
     "solution": true,
     "task": false
    }
   },
   "outputs": [],
   "source": [
    "def small_comp_size(n, probabilities, random_seed=1):\n",
    "    # YOUR CODE HERE\n",
    "    raise NotImplementedError()"
   ]
  },
  {
   "cell_type": "code",
   "execution_count": null,
   "metadata": {
    "deletable": false,
    "nbgrader": {
     "cell_type": "code",
     "checksum": "abefe173a14895ecf14297d335f43b5a",
     "grade": false,
     "grade_id": "cell-858445ae4a56b3c8",
     "locked": false,
     "schema_version": 3,
     "solution": true,
     "task": false
    }
   },
   "outputs": [],
   "source": [
    "def path_len(n, probabilities, random_seed=1):\n",
    "    # YOUR CODE HERE\n",
    "    raise NotImplementedError()"
   ]
  },
  {
   "cell_type": "code",
   "execution_count": null,
   "metadata": {
    "deletable": false,
    "nbgrader": {
     "cell_type": "code",
     "checksum": "4b7fa5fd40be5edda3dabf6616344a42",
     "grade": false,
     "grade_id": "cell-f490df76e58a335c",
     "locked": false,
     "schema_version": 3,
     "solution": true,
     "task": false
    }
   },
   "outputs": [],
   "source": [
    "def clustering_coef(n, probabilities, random_seed=1):\n",
    "    # YOUR CODE HERE\n",
    "    raise NotImplementedError()"
   ]
  },
  {
   "cell_type": "code",
   "execution_count": null,
   "metadata": {
    "deletable": false,
    "editable": false,
    "nbgrader": {
     "cell_type": "code",
     "checksum": "af33009d31cf3a0d55145998c4c8cfc4",
     "grade": true,
     "grade_id": "cell-a280b02521fae95e",
     "locked": true,
     "points": 2,
     "schema_version": 3,
     "solution": false,
     "task": false
    }
   },
   "outputs": [],
   "source": [
    "'''Check the statistics near the critical point'''\n",
    "n_cases = [1000, 700]\n",
    "for n in n_cases:\n",
    "    p_space = np.linspace(0.5/n, 1.5/n, 20)\n",
    "    critical = np.argmin(np.abs(1/n - p_space))\n",
    "    sizes = small_comp_size(n, p_space)\n",
    "    assert p_space.shape == sizes.shape\n",
    "    assert 1.5 < max(sizes) < 3\n",
    "    assert 1 < min(sizes) < 1.5\n",
    "    assert sizes[0] < sizes[critical]\n",
    "    assert sizes[19] < sizes[critical]\n",
    "    \n",
    "    p_space = np.linspace(0.5/n, 5/n, 20)\n",
    "    path_lengths = path_len(n, p_space)\n",
    "    assert path_lengths.shape == p_space.shape\n",
    "    assert sizes[0] < sizes[critical+2]\n",
    "    assert sizes[19] < sizes[critical+2]\n",
    "    \n",
    "    p_space = np.linspace(0.5/n, 8/n, 20)\n",
    "    cl_coefs = clustering_coef(n, p_space)\n",
    "    assert cl_coefs.shape == p_space.shape\n",
    "    assert sizes[0] < sizes[19]"
   ]
  },
  {
   "cell_type": "markdown",
   "metadata": {},
   "source": [
    "Let us draw the plots"
   ]
  },
  {
   "cell_type": "code",
   "execution_count": null,
   "metadata": {},
   "outputs": [],
   "source": [
    "n = 1000\n",
    "p_space = np.linspace(0.5/n, 1.5/n, 40)\n",
    "sizes = small_comp_size(n, p_space)\n",
    "plt.plot(p_space*n, sizes)\n",
    "plt.plot([1, 1], [min(sizes), max(sizes)], 'k--', label='Critical point')\n",
    "plt.xlabel('$p \\cdot n$')\n",
    "plt.ylabel('Average size of small components')\n",
    "plt.legend()\n",
    "plt.show()"
   ]
  },
  {
   "cell_type": "code",
   "execution_count": null,
   "metadata": {},
   "outputs": [],
   "source": [
    "n = 1000\n",
    "p_space = np.linspace(0.5/n, 5/n, 20)\n",
    "path_lengths = path_len(n, p_space)\n",
    "plt.plot(p_space*n, path_lengths)\n",
    "plt.plot([1, 1], [min(path_lengths), max(path_lengths)], 'k--', label='Critical point')\n",
    "plt.xlabel('$p \\cdot n$')\n",
    "plt.ylabel('Average path length')\n",
    "plt.legend()\n",
    "plt.show()"
   ]
  },
  {
   "cell_type": "code",
   "execution_count": null,
   "metadata": {},
   "outputs": [],
   "source": [
    "n = 1000\n",
    "p_space = np.linspace(0.5/n, 8/n, 20)\n",
    "coefs = clustering_coef(n, p_space)\n",
    "plt.plot(p_space*n, coefs)\n",
    "plt.plot([1, 1], [min(coefs), max(coefs)], 'k--', label='Critical point')\n",
    "plt.xlabel('$p \\cdot n$')\n",
    "plt.ylabel('Average clustering coefficient')\n",
    "plt.legend()\n",
    "plt.show()"
   ]
  },
  {
   "cell_type": "markdown",
   "metadata": {},
   "source": [
    "### Task 4. Watts-Strogatz model (2 points)\n",
    "Implement Watts-Strogatz model (small-world model) — rewire an edge with probability `p` in a ring lattice with `n` nodes and `k` degree.\n",
    "\n",
    "Write a function `ring_lattice` that returns a regular ring lattice with `n` nodes and `k` node degree.\n",
    "\n",
    "Write a function `rewire` that takes in input a ring lattice `G`, a `node`, a model parameter `k` and probability `p`. For every right hand side neighbor $i$ the function rewires an edge (`node`, $i$) into a random edge (`node`, $j$) with probability `p` where $i \\neq j \\neq $ `node`."
   ]
  },
  {
   "cell_type": "code",
   "execution_count": null,
   "metadata": {
    "deletable": false,
    "editable": false,
    "nbgrader": {
     "cell_type": "code",
     "checksum": "739fcf38dea115c785c6adbbcaa54d1f",
     "grade": false,
     "grade_id": "cell-c293c72a636144f6",
     "locked": true,
     "schema_version": 3,
     "solution": false,
     "task": false
    }
   },
   "outputs": [],
   "source": [
    "def watts_strogatz_graph(n, k, p):\n",
    "    G = ring_lattice(n, k)\n",
    "    for node in G.nodes:\n",
    "        rewire(G, node, k, p)\n",
    "    return G"
   ]
  },
  {
   "cell_type": "code",
   "execution_count": null,
   "metadata": {
    "deletable": false,
    "nbgrader": {
     "cell_type": "code",
     "checksum": "d77e4a950c912b0c0254404123863790",
     "grade": false,
     "grade_id": "cell-0876db05b3c46134",
     "locked": false,
     "schema_version": 3,
     "solution": true,
     "task": false
    }
   },
   "outputs": [],
   "source": [
    "def ring_lattice(n, k):\n",
    "    '''Generate a regular ring lattice'''\n",
    "    # YOUR CODE HERE\n",
    "    raise NotImplementedError()"
   ]
  },
  {
   "cell_type": "code",
   "execution_count": null,
   "metadata": {
    "deletable": false,
    "nbgrader": {
     "cell_type": "code",
     "checksum": "a862809f9bf1b54df20dbe8738712aeb",
     "grade": false,
     "grade_id": "cell-ff14670349968c93",
     "locked": false,
     "schema_version": 3,
     "solution": true,
     "task": false
    }
   },
   "outputs": [],
   "source": [
    "def rewire(G, node, k, p):\n",
    "    '''Rewire edges into the random ones'''\n",
    "    # YOUR CODE HERE\n",
    "    raise NotImplementedError()"
   ]
  },
  {
   "cell_type": "code",
   "execution_count": null,
   "metadata": {
    "deletable": false,
    "editable": false,
    "nbgrader": {
     "cell_type": "code",
     "checksum": "18bb34cf44bd6bd970e0f3adf9ab9d79",
     "grade": true,
     "grade_id": "cell-c37a09ebe564ed0e",
     "locked": true,
     "points": 2,
     "schema_version": 3,
     "solution": false,
     "task": false
    }
   },
   "outputs": [],
   "source": [
    "'''Compare with networkx implementation'''\n",
    "cases = [[50, 8, 0.1], \n",
    "         [1000, 10, 0.01],\n",
    "         [1000, 10, 0.5],\n",
    "         [1000, 10, 0.99]]\n",
    "for n, k, p in cases:\n",
    "    G = watts_strogatz_graph(n, k, p)\n",
    "    assert nx.number_of_nodes(G) == n\n",
    "    assert nx.number_of_edges(G) == int(k / 2 * n)\n",
    "    degree_seq = [degree for (node, degree) in G.degree]\n",
    "    nxG = nx.watts_strogatz_graph(n, k, p)\n",
    "    nxdegree_seq = [degree for (node, degree) in nxG.degree]\n",
    "    assert ks_2samp(degree_seq, nxdegree_seq).pvalue > 0.05"
   ]
  },
  {
   "cell_type": "markdown",
   "metadata": {},
   "source": [
    "Let us draw a small-world graph in some steps of algorithm"
   ]
  },
  {
   "cell_type": "code",
   "execution_count": null,
   "metadata": {},
   "outputs": [],
   "source": [
    "n, k, p = 52, 6, 0.2\n",
    "G = ring_lattice(n, k)\n",
    "plt.figure(figsize=(12, 6 * 4))\n",
    "i = 1\n",
    "for node in G.nodes:\n",
    "    if node in np.arange(0, n+1, int(n/3)):\n",
    "        plt.subplot(4, 2, i)\n",
    "        plt.title('Number of iterations: {}'.format(node))\n",
    "        nx.draw_circular(\n",
    "            G,\n",
    "            with_labels=False, \n",
    "            node_size=20, \n",
    "            width=0.5, \n",
    "            node_color='tab:orange')\n",
    "        i += 1\n",
    "        plt.subplot(4, 2, i)\n",
    "        degree_seq = [degree for (node, degree) in G.degree]\n",
    "        bins, freq = np.unique(degree_seq, return_counts=True)\n",
    "        plt.bar(bins, freq)\n",
    "        plt.title('Degree distribution')\n",
    "        i += 1\n",
    "    rewire(G, node, k, p)"
   ]
  },
  {
   "cell_type": "markdown",
   "metadata": {},
   "source": [
    "### Task 5. Average path length in small-worlds (1 point)\n",
    "Let us check that the average path length decreases during building the small-world model.\n",
    "\n",
    "Write a function `smallworld_path_len` with Watts-Strogatz model parameters `n, k, p` that returns np.array of average path lengths in each step (node). The length of the array is `n`."
   ]
  },
  {
   "cell_type": "code",
   "execution_count": null,
   "metadata": {
    "deletable": false,
    "nbgrader": {
     "cell_type": "code",
     "checksum": "16bbace78658b382b164ad54f8df438a",
     "grade": false,
     "grade_id": "cell-d5453d66efba3c07",
     "locked": false,
     "schema_version": 3,
     "solution": true,
     "task": false
    }
   },
   "outputs": [],
   "source": [
    "def smallworld_path_len(n, k, p):\n",
    "    # YOUR CODE HERE\n",
    "    raise NotImplementedError()"
   ]
  },
  {
   "cell_type": "code",
   "execution_count": null,
   "metadata": {
    "deletable": false,
    "editable": false,
    "nbgrader": {
     "cell_type": "code",
     "checksum": "8885b985d72f91b503e267813e95a068",
     "grade": true,
     "grade_id": "cell-008cd4c49aa6eadc",
     "locked": true,
     "points": 1,
     "schema_version": 3,
     "solution": false,
     "task": false
    }
   },
   "outputs": [],
   "source": [
    "'''Check the behaviour of an average path length curve'''\n",
    "n, k, p = 101, 10, 0.2\n",
    "lengths = smallworld_path_len(n, k, p)\n",
    "step_space = np.log(np.arange(1, len(lengths) + 1))\n",
    "X = np.stack([step_space, np.ones(lengths.shape[0])], axis=1)\n",
    "assert lengths.shape[0] == n\n",
    "assert lengths[0] == 5.5\n",
    "assert 0.1 < -(np.linalg.pinv(X) @ np.log(lengths))[0] < 0.25"
   ]
  },
  {
   "cell_type": "markdown",
   "metadata": {},
   "source": [
    "Let us plot the average path lengths in steps"
   ]
  },
  {
   "cell_type": "code",
   "execution_count": null,
   "metadata": {},
   "outputs": [],
   "source": [
    "plt.plot(lengths)\n",
    "plt.xlabel('Step of the small-world building')\n",
    "plt.ylabel('Average path length')\n",
    "plt.show()"
   ]
  },
  {
   "cell_type": "markdown",
   "metadata": {},
   "source": [
    "### Task 6. Barabasi-Albert model (2 points)\n",
    "Implement Barabasi-Albert model (preferential attachment model) – a growth process where each new node connects to `m` existing nodes. The higher node degree, the higher probability of the connection. The final number of nodes is `n`.\n",
    "\n",
    "You start from a star graph with `m + 1` nodes. In each step you create `m` edges between a new node and existing nodes. The probability of connection to the node $i$ is \n",
    "$$p(i) = \\frac{k_i}{\\sum k}$$\n",
    "\n",
    "Write a function `attach` that attaches a `node` to a graph `G` through `m` edges."
   ]
  },
  {
   "cell_type": "code",
   "execution_count": null,
   "metadata": {
    "deletable": false,
    "editable": false,
    "nbgrader": {
     "cell_type": "code",
     "checksum": "dbcc15cb30ad3c82fa50de4053cf5c09",
     "grade": false,
     "grade_id": "cell-aa04e0a8cbba64cc",
     "locked": true,
     "schema_version": 3,
     "solution": false,
     "task": false
    }
   },
   "outputs": [],
   "source": [
    "def barabasi_albert_graph(n, m):\n",
    "    G = nx.star_graph(m)\n",
    "    for i in range(1, n - m):\n",
    "        attach(m + i, G, m)\n",
    "    return G"
   ]
  },
  {
   "cell_type": "code",
   "execution_count": null,
   "metadata": {
    "deletable": false,
    "nbgrader": {
     "cell_type": "code",
     "checksum": "8ee62b8555905899217ea7c13bdf82a8",
     "grade": false,
     "grade_id": "cell-05d1dd3ff912589e",
     "locked": false,
     "schema_version": 3,
     "solution": true,
     "task": false
    }
   },
   "outputs": [],
   "source": [
    "def attach(node, G, m):\n",
    "    # YOUR CODE HERE\n",
    "    raise NotImplementedError()"
   ]
  },
  {
   "cell_type": "code",
   "execution_count": null,
   "metadata": {
    "deletable": false,
    "editable": false,
    "nbgrader": {
     "cell_type": "code",
     "checksum": "a32eac5e99422a57f224a59b62b67f61",
     "grade": true,
     "grade_id": "cell-8955aea51b46cf1f",
     "locked": true,
     "points": 2,
     "schema_version": 3,
     "solution": false,
     "task": false
    }
   },
   "outputs": [],
   "source": [
    "'''Compare with networkx implementation'''\n",
    "G = nx.star_graph(3)\n",
    "attach(4, G, 3)\n",
    "assert nx.number_of_edges(G) == 6\n",
    "\n",
    "cases = [[10, 3], \n",
    "         [1000, 3], \n",
    "         [1000, 20]]\n",
    "for n, m in cases:\n",
    "    G = barabasi_albert_graph(n, m)\n",
    "    degree_seq = [degree for (node, degree) in G.degree]\n",
    "    nxG = nx.barabasi_albert_graph(n, m)\n",
    "    nxdegree_seq = [degree for (node, degree) in nxG.degree]\n",
    "    assert ks_2samp(degree_seq, nxdegree_seq).pvalue > 0.05"
   ]
  },
  {
   "cell_type": "markdown",
   "metadata": {},
   "source": [
    "Let us see what the growth process looks like"
   ]
  },
  {
   "cell_type": "code",
   "execution_count": null,
   "metadata": {},
   "outputs": [],
   "source": [
    "n, m = 100, 6\n",
    "G = nx.star_graph(m)\n",
    "plt.figure(figsize=(12, 6 * 5))\n",
    "j = 1\n",
    "for i in range(1, n - m):\n",
    "    if i in [1, 2, 3, 30, n-m-1]:\n",
    "        plt.subplot(5, 2, j)\n",
    "        j += 1\n",
    "        nx.draw_shell(\n",
    "            G,\n",
    "            with_labels=False, \n",
    "            node_size=20, \n",
    "            width=0.5, \n",
    "            node_color='tab:orange')\n",
    "        plt.title('Step: {}'.format(i))\n",
    "        degree_seq = [degree for (node, degree) in G.degree]\n",
    "        bins, freq = np.unique(degree_seq, return_counts=True)\n",
    "        plt.subplot(5, 2, j)\n",
    "        j += 1\n",
    "        plt.bar(bins, freq)\n",
    "        plt.title('Degree distribution')\n",
    "    attach(m + i, G, m)"
   ]
  },
  {
   "cell_type": "markdown",
   "metadata": {},
   "source": [
    "### Task 7. Power law degree distribution (1 point)\n",
    "\n",
    "Barabasi-Albert graph has a degree distribution\n",
    "\n",
    "$$P(k) = \\frac{2m^2}{k^3}$$\n",
    "\n",
    "That is Power law with $\\alpha = 3$ and $k_\\min = m$. \n",
    "\n",
    "Check this fact by an experiment — generate a set of Barabasi-Albert graphs and estimate parameters of Power law.\n",
    "\n",
    "Write a function `estimate_power_law` that generates Barabasi-Albert graphs with `n` nodes, from `m_min` to `m_max` connections and returns a tuple of np.arrays: $\\alpha$ and $k_{\\min}$ for each graph.\n",
    "\n",
    "Copy-paste the `ml_power_law_params` and `power_law_cdf` from the power law assignment."
   ]
  },
  {
   "cell_type": "code",
   "execution_count": null,
   "metadata": {
    "deletable": false,
    "nbgrader": {
     "cell_type": "code",
     "checksum": "f4f6268338b0cff304f7ab9d228557da",
     "grade": false,
     "grade_id": "cell-5ff57bf3ee0fcc25",
     "locked": false,
     "schema_version": 3,
     "solution": true,
     "task": false
    }
   },
   "outputs": [],
   "source": [
    "def estimate_power_law(n, m_min, m_max):\n",
    "    '''Estimate Power law parameters'''\n",
    "    # YOUR CODE HERE\n",
    "    raise NotImplementedError()"
   ]
  },
  {
   "cell_type": "code",
   "execution_count": null,
   "metadata": {
    "deletable": false,
    "nbgrader": {
     "cell_type": "code",
     "checksum": "44f3478051f43b694f772dedf1f5be96",
     "grade": false,
     "grade_id": "cell-1ea6f6fa6b02d62a",
     "locked": false,
     "schema_version": 3,
     "solution": true,
     "task": false
    }
   },
   "outputs": [],
   "source": [
    "def ml_power_law_params(degree_sequence):\n",
    "    '''Estimate alpha and x_min via maximum likelihood'''\n",
    "    # YOUR CODE HERE\n",
    "    raise NotImplementedError()"
   ]
  },
  {
   "cell_type": "code",
   "execution_count": null,
   "metadata": {
    "deletable": false,
    "nbgrader": {
     "cell_type": "code",
     "checksum": "e53fb1a72a3faddd713e4c65ebe7f31e",
     "grade": false,
     "grade_id": "cell-7e0eae3f58951e52",
     "locked": false,
     "schema_version": 3,
     "solution": true,
     "task": false
    }
   },
   "outputs": [],
   "source": [
    "def power_law_cdf(x, alpha=3.5, x_min=1):\n",
    "    '''Calculate cumulative distribution function of Power law'''\n",
    "    # YOUR CODE HERE\n",
    "    raise NotImplementedError()"
   ]
  },
  {
   "cell_type": "code",
   "execution_count": null,
   "metadata": {
    "deletable": false,
    "editable": false,
    "nbgrader": {
     "cell_type": "code",
     "checksum": "531e6f28a5d1f2b42971b99a7e9f687a",
     "grade": true,
     "grade_id": "cell-61379f4af434f7c7",
     "locked": true,
     "points": 1,
     "schema_version": 3,
     "solution": false,
     "task": false
    }
   },
   "outputs": [],
   "source": [
    "'''Check the Power law parameters'''\n",
    "n, m_min, m_max = 1000, 2, 20\n",
    "alpha, k_min = estimate_power_law(n, m_min, m_max)\n",
    "assert alpha.shape[0] == m_max - m_min + 1\n",
    "assert 2 < alpha.min() and alpha.max() < 4\n",
    "assert k_min[0] < k_min[-1]"
   ]
  },
  {
   "cell_type": "code",
   "execution_count": null,
   "metadata": {},
   "outputs": [],
   "source": [
    "m_space = np.arange(m_min, m_max + 1)\n",
    "plt.plot(m_space, alpha)\n",
    "plt.ylim((1, 5))\n",
    "plt.xlabel('m')\n",
    "plt.ylabel('alpha')\n",
    "plt.show()"
   ]
  },
  {
   "cell_type": "code",
   "execution_count": null,
   "metadata": {},
   "outputs": [],
   "source": [
    "plt.plot(m_space, k_min)\n",
    "plt.xlabel('m')\n",
    "plt.ylabel('k_min')\n",
    "plt.show()"
   ]
  },
  {
   "cell_type": "code",
   "execution_count": null,
   "metadata": {},
   "outputs": [],
   "source": []
  }
 ],
 "metadata": {
  "kernelspec": {
   "display_name": "Python 3",
   "language": "python",
   "name": "python3"
  },
  "language_info": {
   "codemirror_mode": {
    "name": "ipython",
    "version": 3
   },
   "file_extension": ".py",
   "mimetype": "text/x-python",
   "name": "python",
   "nbconvert_exporter": "python",
   "pygments_lexer": "ipython3",
   "version": "3.7.4"
  }
 },
 "nbformat": 4,
 "nbformat_minor": 4
}
